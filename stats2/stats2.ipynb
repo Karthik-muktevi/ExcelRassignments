{
 "cells": [
  {
   "cell_type": "code",
   "execution_count": 16,
   "id": "42490664",
   "metadata": {},
   "outputs": [],
   "source": [
    "l =[24.23,\n",
    "25.53,\n",
    "25.41,\n",
    "24.14,\n",
    "29.62,\n",
    "28.25,\n",
    "25.81,\n",
    "24.39,\n",
    "40.26,\n",
    "32.95,\n",
    "91.36,\n",
    "25.99,\n",
    "39.42,\n",
    "26.71,\n",
    "35.00]\n"
   ]
  },
  {
   "cell_type": "code",
   "execution_count": 17,
   "id": "199f69c5",
   "metadata": {},
   "outputs": [],
   "source": [
    "import numpy as np"
   ]
  },
  {
   "cell_type": "code",
   "execution_count": 18,
   "id": "b853edc7",
   "metadata": {},
   "outputs": [
    {
     "data": {
      "text/plain": [
       "33.27133333333333"
      ]
     },
     "execution_count": 18,
     "metadata": {},
     "output_type": "execute_result"
    }
   ],
   "source": [
    "np.mean(l)"
   ]
  },
  {
   "cell_type": "code",
   "execution_count": 19,
   "id": "3f68c896",
   "metadata": {},
   "outputs": [
    {
     "data": {
      "text/plain": [
       "33.27133333333333"
      ]
     },
     "execution_count": 19,
     "metadata": {},
     "output_type": "execute_result"
    }
   ],
   "source": [
    "sum(l)/len(l)"
   ]
  },
  {
   "cell_type": "code",
   "execution_count": 20,
   "id": "5f74d7cf",
   "metadata": {},
   "outputs": [],
   "source": [
    "import statistics\n"
   ]
  },
  {
   "cell_type": "code",
   "execution_count": 21,
   "id": "b419b28a",
   "metadata": {},
   "outputs": [
    {
     "data": {
      "text/plain": [
       "16.945400921222028"
      ]
     },
     "execution_count": 21,
     "metadata": {},
     "output_type": "execute_result"
    }
   ],
   "source": [
    "statistics.stdev(l)"
   ]
  },
  {
   "cell_type": "code",
   "execution_count": 22,
   "id": "0942ac5f",
   "metadata": {},
   "outputs": [
    {
     "data": {
      "text/plain": [
       "287.1466123809524"
      ]
     },
     "execution_count": 22,
     "metadata": {},
     "output_type": "execute_result"
    }
   ],
   "source": [
    "statistics.variance(l)"
   ]
  },
  {
   "cell_type": "code",
   "execution_count": 23,
   "id": "329349be",
   "metadata": {},
   "outputs": [],
   "source": [
    "import seaborn as sns"
   ]
  },
  {
   "cell_type": "code",
   "execution_count": 24,
   "id": "cab74d16",
   "metadata": {},
   "outputs": [],
   "source": [
    "l = np.array(l)"
   ]
  },
  {
   "cell_type": "code",
   "execution_count": 25,
   "id": "18d94a41",
   "metadata": {},
   "outputs": [
    {
     "name": "stderr",
     "output_type": "stream",
     "text": [
      "C:\\Users\\lokit\\anaconda3\\anaconda\\lib\\site-packages\\seaborn\\_decorators.py:36: FutureWarning: Pass the following variable as a keyword arg: x. From version 0.12, the only valid positional argument will be `data`, and passing other arguments without an explicit keyword will result in an error or misinterpretation.\n",
      "  warnings.warn(\n"
     ]
    },
    {
     "data": {
      "text/plain": [
       "<AxesSubplot:>"
      ]
     },
     "execution_count": 25,
     "metadata": {},
     "output_type": "execute_result"
    },
    {
     "data": {
      "image/png": "[encoded data removed]",
      "text/plain": [
       "<Figure size 432x288 with 1 Axes>"
      ]
     },
     "metadata": {
      "needs_background": "light"
     },
     "output_type": "display_data"
    }
   ],
   "source": [
    "sns.boxplot(l)"
   ]
  },
  {
   "cell_type": "code",
   "execution_count": 26,
   "id": "3a0a0950",
   "metadata": {},
   "outputs": [],
   "source": [
    "from scipy import stats"
   ]
  },
  {
   "cell_type": "code",
   "execution_count": 29,
   "id": "6df1ac33",
   "metadata": {},
   "outputs": [
    {
     "data": {
      "text/plain": [
       "0.26598552904870054"
      ]
     },
     "execution_count": 29,
     "metadata": {},
     "output_type": "execute_result"
    }
   ],
   "source": [
    "1-stats.norm.cdf(60,55,8)"
   ]
  },
  {
   "cell_type": "code",
   "execution_count": 30,
   "id": "a852dfdc",
   "metadata": {},
   "outputs": [
    {
     "data": {
      "text/plain": [
       "0.26598552904870054"
      ]
     },
     "execution_count": 30,
     "metadata": {},
     "output_type": "execute_result"
    }
   ],
   "source": [
    "1-stats.norm.cdf(0.625)"
   ]
  },
  {
   "cell_type": "code",
   "execution_count": 36,
   "id": "177f48d5",
   "metadata": {},
   "outputs": [
    {
     "data": {
      "text/plain": [
       "84.1344746068543"
      ]
     },
     "execution_count": 36,
     "metadata": {},
     "output_type": "execute_result"
    }
   ],
   "source": [
    "stats.norm.cdf(1)*100"
   ]
  },
  {
   "cell_type": "code",
   "execution_count": 37,
   "id": "1c36cd57",
   "metadata": {},
   "outputs": [
    {
     "data": {
      "text/plain": [
       "50.0"
      ]
     },
     "execution_count": 37,
     "metadata": {},
     "output_type": "execute_result"
    }
   ],
   "source": [
    "stats.norm.cdf(0)*100"
   ]
  },
  {
   "cell_type": "code",
   "execution_count": 45,
   "id": "ec652091",
   "metadata": {},
   "outputs": [
    {
     "data": {
      "text/plain": [
       "9.175913565028077"
      ]
     },
     "execution_count": 45,
     "metadata": {},
     "output_type": "execute_result"
    }
   ],
   "source": [
    "stats.norm.cdf(-1.33)*100"
   ]
  },
  {
   "cell_type": "code",
   "execution_count": 47,
   "id": "0568e1e5",
   "metadata": {},
   "outputs": [],
   "source": [
    "z1 = stats.norm.ppf(0.005) "
   ]
  },
  {
   "cell_type": "code",
   "execution_count": 46,
   "id": "52a4dcad",
   "metadata": {},
   "outputs": [],
   "source": [
    "z2 = stats.norm.ppf(0.995) "
   ]
  },
  {
   "cell_type": "code",
   "execution_count": 48,
   "id": "fbf8205a",
   "metadata": {},
   "outputs": [
    {
     "data": {
      "text/plain": [
       "-2.575829303548901"
      ]
     },
     "execution_count": 48,
     "metadata": {},
     "output_type": "execute_result"
    }
   ],
   "source": [
    "z1"
   ]
  },
  {
   "cell_type": "code",
   "execution_count": 49,
   "id": "cc0b382c",
   "metadata": {},
   "outputs": [
    {
     "data": {
      "text/plain": [
       "2.5758293035489004"
      ]
     },
     "execution_count": 49,
     "metadata": {},
     "output_type": "execute_result"
    }
   ],
   "source": [
    "z2"
   ]
  },
  {
   "cell_type": "code",
   "execution_count": 63,
   "id": "2548af80",
   "metadata": {},
   "outputs": [],
   "source": [
    "c1 = stats.norm.cdf(55,50,4)"
   ]
  },
  {
   "cell_type": "code",
   "execution_count": 64,
   "id": "b8214301",
   "metadata": {},
   "outputs": [],
   "source": [
    "c2=stats.norm.cdf(45,50,4)"
   ]
  },
  {
   "cell_type": "code",
   "execution_count": 69,
   "id": "0b4bc41c",
   "metadata": {},
   "outputs": [
    {
     "data": {
      "text/plain": [
       "0.2112995473337107"
      ]
     },
     "execution_count": 69,
     "metadata": {},
     "output_type": "execute_result"
    }
   ],
   "source": [
    "1-(c1-c2)"
   ]
  },
  {
   "cell_type": "code",
   "execution_count": null,
   "id": "87a0e968",
   "metadata": {},
   "outputs": [],
   "source": []
  }
 ],
 "metadata": {
  "kernelspec": {
   "display_name": "Python 3 (ipykernel)",
   "language": "python",
   "name": "python3"
  },
  "language_info": {
   "codemirror_mode": {
    "name": "ipython",
    "version": 3
   },
   "file_extension": ".py",
   "mimetype": "text/x-python",
   "name": "python",
   "nbconvert_exporter": "python",
   "pygments_lexer": "ipython3",
   "version": "3.9.12"
  }
 },
 "nbformat": 4,
 "nbformat_minor": 5
}
