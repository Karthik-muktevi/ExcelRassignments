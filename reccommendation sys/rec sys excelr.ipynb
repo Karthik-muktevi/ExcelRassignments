{
 "cells": [
  {
   "cell_type": "code",
   "execution_count": 1,
   "id": "1a389b2b",
   "metadata": {},
   "outputs": [],
   "source": [
    "import pandas as pd\n",
    "import numpy as np\n",
    "import matplotlib.pyplot as plt\n",
    "import seaborn as sns"
   ]
  },
  {
   "cell_type": "code",
   "execution_count": 2,
   "id": "26d0ffc2",
   "metadata": {},
   "outputs": [],
   "source": [
    "df= pd.read_csv(r\"D:\\excelr assignments\\reccommendation sys\\book.csv\",encoding='latin-1')"
   ]
  },
  {
   "cell_type": "code",
   "execution_count": 3,
   "id": "398704c1",
   "metadata": {},
   "outputs": [
    {
     "data": {
      "text/html": [
       "<div>\n",
       "<style scoped>\n",
       "    .dataframe tbody tr th:only-of-type {\n",
       "        vertical-align: middle;\n",
       "    }\n",
       "\n",
       "    .dataframe tbody tr th {\n",
       "        vertical-align: top;\n",
       "    }\n",
       "\n",
       "    .dataframe thead th {\n",
       "        text-align: right;\n",
       "    }\n",
       "</style>\n",
       "<table border=\"1\" class=\"dataframe\">\n",
       "  <thead>\n",
       "    <tr style=\"text-align: right;\">\n",
       "      <th></th>\n",
       "      <th>Unnamed: 0</th>\n",
       "      <th>User.ID</th>\n",
       "      <th>Book.Title</th>\n",
       "      <th>Book.Rating</th>\n",
       "    </tr>\n",
       "  </thead>\n",
       "  <tbody>\n",
       "    <tr>\n",
       "      <th>0</th>\n",
       "      <td>1</td>\n",
       "      <td>276726</td>\n",
       "      <td>Classical Mythology</td>\n",
       "      <td>5</td>\n",
       "    </tr>\n",
       "    <tr>\n",
       "      <th>1</th>\n",
       "      <td>2</td>\n",
       "      <td>276729</td>\n",
       "      <td>Clara Callan</td>\n",
       "      <td>3</td>\n",
       "    </tr>\n",
       "    <tr>\n",
       "      <th>2</th>\n",
       "      <td>3</td>\n",
       "      <td>276729</td>\n",
       "      <td>Decision in Normandy</td>\n",
       "      <td>6</td>\n",
       "    </tr>\n",
       "    <tr>\n",
       "      <th>3</th>\n",
       "      <td>4</td>\n",
       "      <td>276736</td>\n",
       "      <td>Flu: The Story of the Great Influenza Pandemic...</td>\n",
       "      <td>8</td>\n",
       "    </tr>\n",
       "    <tr>\n",
       "      <th>4</th>\n",
       "      <td>5</td>\n",
       "      <td>276737</td>\n",
       "      <td>The Mummies of Urumchi</td>\n",
       "      <td>6</td>\n",
       "    </tr>\n",
       "  </tbody>\n",
       "</table>\n",
       "</div>"
      ],
      "text/plain": [
       "   Unnamed: 0  User.ID                                         Book.Title  \\\n",
       "0           1   276726                                Classical Mythology   \n",
       "1           2   276729                                       Clara Callan   \n",
       "2           3   276729                               Decision in Normandy   \n",
       "3           4   276736  Flu: The Story of the Great Influenza Pandemic...   \n",
       "4           5   276737                             The Mummies of Urumchi   \n",
       "\n",
       "   Book.Rating  \n",
       "0            5  \n",
       "1            3  \n",
       "2            6  \n",
       "3            8  \n",
       "4            6  "
      ]
     },
     "execution_count": 3,
     "metadata": {},
     "output_type": "execute_result"
    }
   ],
   "source": [
    "df.head()"
   ]
  },
  {
   "cell_type": "code",
   "execution_count": 4,
   "id": "fa44e6a1",
   "metadata": {},
   "outputs": [],
   "source": [
    "df.rename(columns={'User.ID':'userid','Book.Title':'title','Book.Rating':'ratings'},inplace=True)"
   ]
  },
  {
   "cell_type": "code",
   "execution_count": 5,
   "id": "cdbf61a1",
   "metadata": {},
   "outputs": [],
   "source": [
    "df.drop(columns='Unnamed: 0',inplace=True,axis=1)"
   ]
  },
  {
   "cell_type": "code",
   "execution_count": 6,
   "id": "cf973af0",
   "metadata": {},
   "outputs": [
    {
     "data": {
      "text/plain": [
       "<AxesSubplot:>"
      ]
     },
     "execution_count": 6,
     "metadata": {},
     "output_type": "execute_result"
    },
    {
     "data": {
      "image/png": "[encoded data removed]",
      "text/plain": [
       "<Figure size 432x288 with 1 Axes>"
      ]
     },
     "metadata": {
      "needs_background": "light"
     },
     "output_type": "display_data"
    }
   ],
   "source": [
    "a = df['title'].value_counts()[:10]\n",
    "a.plot(kind='barh')"
   ]
  },
  {
   "cell_type": "code",
   "execution_count": 7,
   "id": "e6080c5c",
   "metadata": {},
   "outputs": [],
   "source": [
    "#From the above plot Fahrenhit 451 is the most common book read followed by Charlie and Chocolate factory,vanished and others"
   ]
  },
  {
   "cell_type": "code",
   "execution_count": 8,
   "id": "772e3cb4",
   "metadata": {},
   "outputs": [
    {
     "data": {
      "text/plain": [
       "<AxesSubplot:>"
      ]
     },
     "execution_count": 8,
     "metadata": {},
     "output_type": "execute_result"
    },
    {
     "data": {
      "image/png": "[encoded data removed]",
      "text/plain": [
       "<Figure size 432x288 with 1 Axes>"
      ]
     },
     "metadata": {
      "needs_background": "light"
     },
     "output_type": "display_data"
    }
   ],
   "source": [
    "df['userid'].value_counts()[:10].plot(kind='barh')"
   ]
  },
  {
   "cell_type": "code",
   "execution_count": 9,
   "id": "d493e179",
   "metadata": {},
   "outputs": [],
   "source": [
    "# User with userid 3757 has read more than 500 books followed by user with userid 162052 and 2276 who have read 200 books"
   ]
  },
  {
   "cell_type": "code",
   "execution_count": 10,
   "id": "352fe512",
   "metadata": {},
   "outputs": [],
   "source": [
    "df1 = pd.DataFrame(df.groupby(['title'])['ratings'].mean())"
   ]
  },
  {
   "cell_type": "code",
   "execution_count": 11,
   "id": "3225367f",
   "metadata": {},
   "outputs": [
    {
     "data": {
      "text/plain": [
       "<AxesSubplot:ylabel='title'>"
      ]
     },
     "execution_count": 11,
     "metadata": {},
     "output_type": "execute_result"
    },
    {
     "data": {
      "image/png": "[encoded data removed]",
      "text/plain": [
       "<Figure size 432x288 with 1 Axes>"
      ]
     },
     "metadata": {
      "needs_background": "light"
     },
     "output_type": "display_data"
    }
   ],
   "source": [
    "df1.sort_values(['ratings'],ascending=False)[:10].plot(kind='barh')"
   ]
  },
  {
   "cell_type": "code",
   "execution_count": 12,
   "id": "98a0b82e",
   "metadata": {},
   "outputs": [],
   "source": [
    "# Above are the movies which have the top average ratings  by the users"
   ]
  },
  {
   "cell_type": "code",
   "execution_count": 13,
   "id": "07614080",
   "metadata": {},
   "outputs": [
    {
     "data": {
      "text/html": [
       "<div>\n",
       "<style scoped>\n",
       "    .dataframe tbody tr th:only-of-type {\n",
       "        vertical-align: middle;\n",
       "    }\n",
       "\n",
       "    .dataframe tbody tr th {\n",
       "        vertical-align: top;\n",
       "    }\n",
       "\n",
       "    .dataframe thead th {\n",
       "        text-align: right;\n",
       "    }\n",
       "</style>\n",
       "<table border=\"1\" class=\"dataframe\">\n",
       "  <thead>\n",
       "    <tr style=\"text-align: right;\">\n",
       "      <th></th>\n",
       "      <th>userid</th>\n",
       "      <th>title</th>\n",
       "      <th>ratings</th>\n",
       "    </tr>\n",
       "  </thead>\n",
       "  <tbody>\n",
       "    <tr>\n",
       "      <th>0</th>\n",
       "      <td>276726</td>\n",
       "      <td>Classical Mythology</td>\n",
       "      <td>5</td>\n",
       "    </tr>\n",
       "    <tr>\n",
       "      <th>1</th>\n",
       "      <td>276729</td>\n",
       "      <td>Clara Callan</td>\n",
       "      <td>3</td>\n",
       "    </tr>\n",
       "  </tbody>\n",
       "</table>\n",
       "</div>"
      ],
      "text/plain": [
       "   userid                title  ratings\n",
       "0  276726  Classical Mythology        5\n",
       "1  276729         Clara Callan        3"
      ]
     },
     "execution_count": 13,
     "metadata": {},
     "output_type": "execute_result"
    }
   ],
   "source": [
    "df.head(2)"
   ]
  },
  {
   "cell_type": "code",
   "execution_count": 14,
   "id": "ae1de530",
   "metadata": {},
   "outputs": [],
   "source": [
    "rating_matrix = df.pivot_table(index='userid', columns='title', values='ratings')\n",
    "rating_matrix = rating_matrix.fillna(0)"
   ]
  },
  {
   "cell_type": "code",
   "execution_count": 15,
   "id": "656d2f52",
   "metadata": {},
   "outputs": [],
   "source": [
    "from sklearn.metrics.pairwise import cosine_similarity"
   ]
  },
  {
   "cell_type": "code",
   "execution_count": 16,
   "id": "169f2de0",
   "metadata": {},
   "outputs": [],
   "source": [
    "def similarity(userid,rating_matrix):\n",
    "    user = rating_matrix[rating_matrix.index==userid]\n",
    "    others = rating_matrix[rating_matrix.index!=userid]\n",
    "    cos_sim = cosine_similarity(user,others)[0].tolist()\n",
    "    idx = others.index.to_list()\n",
    "    idx_sim = dict(zip(idx, cos_sim))\n",
    "    idx_sim_sorted = sorted(idx_sim.items(), key=lambda x: x[1])\n",
    "    idx_sim_sorted.reverse()\n",
    "    top_user_similarities = idx_sim_sorted\n",
    "    users = [i[0] for i in top_user_similarities]\n",
    "    return users"
   ]
  },
  {
   "cell_type": "code",
   "execution_count": 17,
   "id": "bdb51be6",
   "metadata": {},
   "outputs": [],
   "source": [
    "def recommend_book(user_index, similar_user_indices, r_matrix,items=10):\n",
    "    similar_users = r_matrix[r_matrix.index.isin(similar_user_indices)]\n",
    "    similar_users = similar_users.mean(axis=0)\n",
    "    similar_df = pd.DataFrame(similar_users, columns=['mean'])\n",
    "    user_df = r_matrix[r_matrix.index == user_index]\n",
    "    user_df_transposed = user_df.transpose()\n",
    "    user_df_transposed.columns = ['rating']\n",
    "    user_df_transposed = user_df_transposed[user_df_transposed['rating'] == 0]\n",
    "    books_unseen = user_df_transposed.index.tolist()\n",
    "    similar_users_filtered = similar_df[similar_df.index.isin(books_unseen)]\n",
    "    similar_users_ordered = similar_df.sort_values(by=['mean'], ascending=False)\n",
    "\n",
    "    top_books = similar_users_ordered.head(items)\n",
    "    top_books_indices = top_books.index.tolist()\n",
    "    #book_title = df[df['userid'].isin(top_books_indices)]['title']\n",
    "    \n",
    "\n",
    "    return top_books_indices"
   ]
  },
  {
   "cell_type": "code",
   "execution_count": 40,
   "id": "d2858bb3",
   "metadata": {},
   "outputs": [
    {
     "data": {
      "text/plain": [
       "0      276726\n",
       "1      276729\n",
       "2      276729\n",
       "3      276736\n",
       "4      276737\n",
       "        ...  \n",
       "995    277585\n",
       "996    277585\n",
       "997    277585\n",
       "998    277586\n",
       "999    277588\n",
       "Name: userid, Length: 1000, dtype: int64"
      ]
     },
     "execution_count": 40,
     "metadata": {},
     "output_type": "execute_result"
    }
   ],
   "source": [
    "df['userid'][:1000]"
   ]
  },
  {
   "cell_type": "code",
   "execution_count": 19,
   "id": "1525a311",
   "metadata": {},
   "outputs": [],
   "source": [
    "s = similarity(162121,rating_matrix)"
   ]
  },
  {
   "cell_type": "code",
   "execution_count": 20,
   "id": "cfb6fef0",
   "metadata": {},
   "outputs": [
    {
     "data": {
      "text/plain": [
       "['The Subtle Knife (His Dark Materials, Book 2)',\n",
       " 'Fahrenheit 451',\n",
       " 'Stardust',\n",
       " 'The Amber Spyglass (His Dark Materials, Book 3)',\n",
       " 'The Face',\n",
       " 'Vanished',\n",
       " 'Charlie and the Chocolate Factory',\n",
       " 'The Neverending Story',\n",
       " 'The Testament',\n",
       " 'The Golden Compass (His Dark Materials, Book 1)']"
      ]
     },
     "execution_count": 20,
     "metadata": {},
     "output_type": "execute_result"
    }
   ],
   "source": [
    "recommend_book(162121,s,rating_matrix)"
   ]
  }
 ],
 "metadata": {
  "kernelspec": {
   "display_name": "Python 3 (ipykernel)",
   "language": "python",
   "name": "python3"
  },
  "language_info": {
   "codemirror_mode": {
    "name": "ipython",
    "version": 3
   },
   "file_extension": ".py",
   "mimetype": "text/x-python",
   "name": "python",
   "nbconvert_exporter": "python",
   "pygments_lexer": "ipython3",
   "version": "3.9.12"
  }
 },
 "nbformat": 4,
 "nbformat_minor": 5
}
