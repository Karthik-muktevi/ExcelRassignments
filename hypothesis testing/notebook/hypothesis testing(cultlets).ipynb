{
 "cells": [
  {
   "cell_type": "code",
   "execution_count": 1,
   "id": "ea7de153",
   "metadata": {},
   "outputs": [],
   "source": [
    "import pandas as pd\n",
    "import numpy as np\n",
    "from scipy import stats"
   ]
  },
  {
   "cell_type": "code",
   "execution_count": 2,
   "id": "c54984cc",
   "metadata": {},
   "outputs": [],
   "source": [
    "df = pd.read_csv(r\"D:\\excelr assignments\\hypothesis testing\\Cutlets.csv\")"
   ]
  },
  {
   "cell_type": "code",
   "execution_count": 3,
   "id": "83089e70",
   "metadata": {},
   "outputs": [
    {
     "data": {
      "text/html": [
       "<div>\n",
       "<style scoped>\n",
       "    .dataframe tbody tr th:only-of-type {\n",
       "        vertical-align: middle;\n",
       "    }\n",
       "\n",
       "    .dataframe tbody tr th {\n",
       "        vertical-align: top;\n",
       "    }\n",
       "\n",
       "    .dataframe thead th {\n",
       "        text-align: right;\n",
       "    }\n",
       "</style>\n",
       "<table border=\"1\" class=\"dataframe\">\n",
       "  <thead>\n",
       "    <tr style=\"text-align: right;\">\n",
       "      <th></th>\n",
       "      <th>Unit A</th>\n",
       "      <th>Unit B</th>\n",
       "    </tr>\n",
       "  </thead>\n",
       "  <tbody>\n",
       "    <tr>\n",
       "      <th>0</th>\n",
       "      <td>6.8090</td>\n",
       "      <td>6.7703</td>\n",
       "    </tr>\n",
       "    <tr>\n",
       "      <th>1</th>\n",
       "      <td>6.4376</td>\n",
       "      <td>7.5093</td>\n",
       "    </tr>\n",
       "    <tr>\n",
       "      <th>2</th>\n",
       "      <td>6.9157</td>\n",
       "      <td>6.7300</td>\n",
       "    </tr>\n",
       "    <tr>\n",
       "      <th>3</th>\n",
       "      <td>7.3012</td>\n",
       "      <td>6.7878</td>\n",
       "    </tr>\n",
       "    <tr>\n",
       "      <th>4</th>\n",
       "      <td>7.4488</td>\n",
       "      <td>7.1522</td>\n",
       "    </tr>\n",
       "  </tbody>\n",
       "</table>\n",
       "</div>"
      ],
      "text/plain": [
       "   Unit A  Unit B\n",
       "0  6.8090  6.7703\n",
       "1  6.4376  7.5093\n",
       "2  6.9157  6.7300\n",
       "3  7.3012  6.7878\n",
       "4  7.4488  7.1522"
      ]
     },
     "execution_count": 3,
     "metadata": {},
     "output_type": "execute_result"
    }
   ],
   "source": [
    "df.head()"
   ]
  },
  {
   "cell_type": "code",
   "execution_count": 4,
   "id": "2c8bb469",
   "metadata": {},
   "outputs": [],
   "source": [
    "#Normality test"
   ]
  },
  {
   "cell_type": "code",
   "execution_count": 5,
   "id": "1a6f9c5a",
   "metadata": {},
   "outputs": [],
   "source": [
    "# alpha =0.05\n",
    "#H0 = Both unit a and unit b are normal\n",
    "#H1 = Both units are not normal"
   ]
  },
  {
   "cell_type": "code",
   "execution_count": 6,
   "id": "1367b2cf",
   "metadata": {},
   "outputs": [
    {
     "data": {
      "text/plain": [
       "ShapiroResult(statistic=0.9649458527565002, pvalue=0.3199819028377533)"
      ]
     },
     "execution_count": 6,
     "metadata": {},
     "output_type": "execute_result"
    }
   ],
   "source": [
    "stats.shapiro(df['Unit A'])"
   ]
  },
  {
   "cell_type": "code",
   "execution_count": 7,
   "id": "4dcca7b1",
   "metadata": {},
   "outputs": [],
   "source": [
    "# p> alpha Hence we fail to reject null hypothesis"
   ]
  },
  {
   "cell_type": "code",
   "execution_count": 8,
   "id": "4f56270c",
   "metadata": {},
   "outputs": [
    {
     "data": {
      "text/plain": [
       "ShapiroResult(statistic=0.9727300405502319, pvalue=0.5224985480308533)"
      ]
     },
     "execution_count": 8,
     "metadata": {},
     "output_type": "execute_result"
    }
   ],
   "source": [
    "stats.shapiro(df['Unit B'])"
   ]
  },
  {
   "cell_type": "code",
   "execution_count": 9,
   "id": "4b6d4a82",
   "metadata": {},
   "outputs": [],
   "source": [
    "# p> alpha Hence we fail to reject null hypothesis"
   ]
  },
  {
   "cell_type": "code",
   "execution_count": 10,
   "id": "5d94f7f9",
   "metadata": {},
   "outputs": [],
   "source": [
    "# Both units are normal"
   ]
  },
  {
   "cell_type": "code",
   "execution_count": 11,
   "id": "0fc58234",
   "metadata": {},
   "outputs": [],
   "source": [
    "# Paiired T test\n"
   ]
  },
  {
   "cell_type": "code",
   "execution_count": 12,
   "id": "13fb8bf4",
   "metadata": {},
   "outputs": [],
   "source": [
    "#H0 = There is no significant difference between diameter of cutlets\n",
    "#H1 = There is significant difference between diameter of cutlets"
   ]
  },
  {
   "cell_type": "code",
   "execution_count": 13,
   "id": "bbba631d",
   "metadata": {},
   "outputs": [
    {
     "data": {
      "text/plain": [
       "Ttest_relResult(statistic=0.7536787225614314, pvalue=0.4562300768038412)"
      ]
     },
     "execution_count": 13,
     "metadata": {},
     "output_type": "execute_result"
    }
   ],
   "source": [
    "stats.ttest_rel(df[\"Unit A\"], df[\"Unit B\"])"
   ]
  },
  {
   "cell_type": "code",
   "execution_count": 14,
   "id": "7e8bda38",
   "metadata": {},
   "outputs": [],
   "source": [
    "# p value is greater than alpha hence we fail to reject null hypothesis"
   ]
  },
  {
   "cell_type": "code",
   "execution_count": 15,
   "id": "5098b4b7",
   "metadata": {},
   "outputs": [],
   "source": [
    "#There is no significant difference between diameter of cutlets"
   ]
  }
 ],
 "metadata": {
  "kernelspec": {
   "display_name": "Python 3 (ipykernel)",
   "language": "python",
   "name": "python3"
  },
  "language_info": {
   "codemirror_mode": {
    "name": "ipython",
    "version": 3
   },
   "file_extension": ".py",
   "mimetype": "text/x-python",
   "name": "python",
   "nbconvert_exporter": "python",
   "pygments_lexer": "ipython3",
   "version": "3.9.12"
  }
 },
 "nbformat": 4,
 "nbformat_minor": 5
}
