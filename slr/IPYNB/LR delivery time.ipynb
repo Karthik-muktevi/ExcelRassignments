{
 "cells": [
  {
   "cell_type": "code",
   "execution_count": 11,
   "id": "e2c05c60",
   "metadata": {},
   "outputs": [],
   "source": [
    "import pandas as pd\n",
    "import numpy as np\n",
    "import matplotlib.pyplot as plt\n",
    "import seaborn as sns"
   ]
  },
  {
   "cell_type": "code",
   "execution_count": 12,
   "id": "5593c4a7",
   "metadata": {},
   "outputs": [],
   "source": [
    "df = pd.read_csv(r\"D:\\excelr assignments\\slr\\delivery_time (1).csv\")"
   ]
  },
  {
   "cell_type": "code",
   "execution_count": 13,
   "id": "9e6fd9a3",
   "metadata": {},
   "outputs": [
    {
     "data": {
      "text/html": [
       "<div>\n",
       "<style scoped>\n",
       "    .dataframe tbody tr th:only-of-type {\n",
       "        vertical-align: middle;\n",
       "    }\n",
       "\n",
       "    .dataframe tbody tr th {\n",
       "        vertical-align: top;\n",
       "    }\n",
       "\n",
       "    .dataframe thead th {\n",
       "        text-align: right;\n",
       "    }\n",
       "</style>\n",
       "<table border=\"1\" class=\"dataframe\">\n",
       "  <thead>\n",
       "    <tr style=\"text-align: right;\">\n",
       "      <th></th>\n",
       "      <th>Delivery Time</th>\n",
       "      <th>Sorting Time</th>\n",
       "    </tr>\n",
       "  </thead>\n",
       "  <tbody>\n",
       "    <tr>\n",
       "      <th>0</th>\n",
       "      <td>21.00</td>\n",
       "      <td>10</td>\n",
       "    </tr>\n",
       "    <tr>\n",
       "      <th>1</th>\n",
       "      <td>13.50</td>\n",
       "      <td>4</td>\n",
       "    </tr>\n",
       "    <tr>\n",
       "      <th>2</th>\n",
       "      <td>19.75</td>\n",
       "      <td>6</td>\n",
       "    </tr>\n",
       "    <tr>\n",
       "      <th>3</th>\n",
       "      <td>24.00</td>\n",
       "      <td>9</td>\n",
       "    </tr>\n",
       "    <tr>\n",
       "      <th>4</th>\n",
       "      <td>29.00</td>\n",
       "      <td>10</td>\n",
       "    </tr>\n",
       "  </tbody>\n",
       "</table>\n",
       "</div>"
      ],
      "text/plain": [
       "   Delivery Time  Sorting Time\n",
       "0          21.00            10\n",
       "1          13.50             4\n",
       "2          19.75             6\n",
       "3          24.00             9\n",
       "4          29.00            10"
      ]
     },
     "execution_count": 13,
     "metadata": {},
     "output_type": "execute_result"
    }
   ],
   "source": [
    "df.head()"
   ]
  },
  {
   "cell_type": "code",
   "execution_count": 14,
   "id": "bee7352a",
   "metadata": {},
   "outputs": [
    {
     "data": {
      "text/html": [
       "<div>\n",
       "<style scoped>\n",
       "    .dataframe tbody tr th:only-of-type {\n",
       "        vertical-align: middle;\n",
       "    }\n",
       "\n",
       "    .dataframe tbody tr th {\n",
       "        vertical-align: top;\n",
       "    }\n",
       "\n",
       "    .dataframe thead th {\n",
       "        text-align: right;\n",
       "    }\n",
       "</style>\n",
       "<table border=\"1\" class=\"dataframe\">\n",
       "  <thead>\n",
       "    <tr style=\"text-align: right;\">\n",
       "      <th></th>\n",
       "      <th>Delivery Time</th>\n",
       "      <th>Sorting Time</th>\n",
       "    </tr>\n",
       "  </thead>\n",
       "  <tbody>\n",
       "    <tr>\n",
       "      <th>count</th>\n",
       "      <td>21.000000</td>\n",
       "      <td>21.000000</td>\n",
       "    </tr>\n",
       "    <tr>\n",
       "      <th>mean</th>\n",
       "      <td>16.790952</td>\n",
       "      <td>6.190476</td>\n",
       "    </tr>\n",
       "    <tr>\n",
       "      <th>std</th>\n",
       "      <td>5.074901</td>\n",
       "      <td>2.542028</td>\n",
       "    </tr>\n",
       "    <tr>\n",
       "      <th>min</th>\n",
       "      <td>8.000000</td>\n",
       "      <td>2.000000</td>\n",
       "    </tr>\n",
       "    <tr>\n",
       "      <th>25%</th>\n",
       "      <td>13.500000</td>\n",
       "      <td>4.000000</td>\n",
       "    </tr>\n",
       "    <tr>\n",
       "      <th>50%</th>\n",
       "      <td>17.830000</td>\n",
       "      <td>6.000000</td>\n",
       "    </tr>\n",
       "    <tr>\n",
       "      <th>75%</th>\n",
       "      <td>19.750000</td>\n",
       "      <td>8.000000</td>\n",
       "    </tr>\n",
       "    <tr>\n",
       "      <th>max</th>\n",
       "      <td>29.000000</td>\n",
       "      <td>10.000000</td>\n",
       "    </tr>\n",
       "  </tbody>\n",
       "</table>\n",
       "</div>"
      ],
      "text/plain": [
       "       Delivery Time  Sorting Time\n",
       "count      21.000000     21.000000\n",
       "mean       16.790952      6.190476\n",
       "std         5.074901      2.542028\n",
       "min         8.000000      2.000000\n",
       "25%        13.500000      4.000000\n",
       "50%        17.830000      6.000000\n",
       "75%        19.750000      8.000000\n",
       "max        29.000000     10.000000"
      ]
     },
     "execution_count": 14,
     "metadata": {},
     "output_type": "execute_result"
    }
   ],
   "source": [
    "df.describe()"
   ]
  },
  {
   "cell_type": "code",
   "execution_count": 15,
   "id": "9c785002",
   "metadata": {},
   "outputs": [
    {
     "name": "stdout",
     "output_type": "stream",
     "text": [
      "<class 'pandas.core.frame.DataFrame'>\n",
      "RangeIndex: 21 entries, 0 to 20\n",
      "Data columns (total 2 columns):\n",
      " #   Column         Non-Null Count  Dtype  \n",
      "---  ------         --------------  -----  \n",
      " 0   Delivery Time  21 non-null     float64\n",
      " 1   Sorting Time   21 non-null     int64  \n",
      "dtypes: float64(1), int64(1)\n",
      "memory usage: 464.0 bytes\n"
     ]
    }
   ],
   "source": [
    "df.info()"
   ]
  },
  {
   "cell_type": "code",
   "execution_count": 16,
   "id": "22ab4691",
   "metadata": {},
   "outputs": [
    {
     "data": {
      "text/plain": [
       "(21, 2)"
      ]
     },
     "execution_count": 16,
     "metadata": {},
     "output_type": "execute_result"
    }
   ],
   "source": [
    "df.shape"
   ]
  },
  {
   "cell_type": "code",
   "execution_count": 17,
   "id": "eaf6775f",
   "metadata": {},
   "outputs": [
    {
     "data": {
      "text/plain": [
       "<AxesSubplot:xlabel='Sorting Time', ylabel='Delivery Time'>"
      ]
     },
     "execution_count": 17,
     "metadata": {},
     "output_type": "execute_result"
    },
    {
     "data": {
      "image/png": "[encoded data removed]",
      "text/plain": [
       "<Figure size 432x288 with 1 Axes>"
      ]
     },
     "metadata": {
      "needs_background": "light"
     },
     "output_type": "display_data"
    }
   ],
   "source": [
    "sns.scatterplot(x='Sorting Time',y='Delivery Time',data=df)"
   ]
  },
  {
   "cell_type": "code",
   "execution_count": 66,
   "id": "7e7d02ab",
   "metadata": {},
   "outputs": [],
   "source": [
    "#data shows linear relationship between sorting time and delievery time"
   ]
  },
  {
   "cell_type": "code",
   "execution_count": 18,
   "id": "d13a070a",
   "metadata": {},
   "outputs": [
    {
     "data": {
      "text/plain": [
       "<AxesSubplot:xlabel='Sorting Time', ylabel='Delivery Time'>"
      ]
     },
     "execution_count": 18,
     "metadata": {},
     "output_type": "execute_result"
    },
    {
     "data": {
      "image/png": "[encoded data removed]",
      "text/plain": [
       "<Figure size 432x288 with 1 Axes>"
      ]
     },
     "metadata": {
      "needs_background": "light"
     },
     "output_type": "display_data"
    }
   ],
   "source": [
    "sns.regplot(x='Sorting Time',y='Delivery Time',data=df)"
   ]
  },
  {
   "cell_type": "code",
   "execution_count": 19,
   "id": "71cbda16",
   "metadata": {},
   "outputs": [
    {
     "data": {
      "text/plain": [
       "<AxesSubplot:xlabel='Sorting Time'>"
      ]
     },
     "execution_count": 19,
     "metadata": {},
     "output_type": "execute_result"
    },
    {
     "data": {
      "image/png": "[encoded data removed]",
      "text/plain": [
       "<Figure size 432x288 with 1 Axes>"
      ]
     },
     "metadata": {
      "needs_background": "light"
     },
     "output_type": "display_data"
    }
   ],
   "source": [
    "sns.boxplot(x=df['Sorting Time'])"
   ]
  },
  {
   "cell_type": "code",
   "execution_count": 20,
   "id": "8e786dbd",
   "metadata": {},
   "outputs": [],
   "source": [
    "x = df[['Sorting Time']]\n",
    "y = df[['Delivery Time']]"
   ]
  },
  {
   "cell_type": "code",
   "execution_count": 21,
   "id": "01e0ae2f",
   "metadata": {},
   "outputs": [],
   "source": [
    "from sklearn.model_selection import train_test_split\n",
    "x_train,x_test,y_train,y_test = train_test_split(x,y,test_size=0.2,random_state=3)"
   ]
  },
  {
   "cell_type": "code",
   "execution_count": 22,
   "id": "13aee34a",
   "metadata": {},
   "outputs": [],
   "source": [
    "from sklearn.linear_model import LinearRegression"
   ]
  },
  {
   "cell_type": "code",
   "execution_count": 23,
   "id": "da0de258",
   "metadata": {},
   "outputs": [],
   "source": [
    "lr = LinearRegression()"
   ]
  },
  {
   "cell_type": "markdown",
   "id": "444d6609",
   "metadata": {},
   "source": [
    "model without transformation"
   ]
  },
  {
   "cell_type": "code",
   "execution_count": 24,
   "id": "d44c89b7",
   "metadata": {},
   "outputs": [
    {
     "data": {
      "text/plain": [
       "LinearRegression()"
      ]
     },
     "execution_count": 24,
     "metadata": {},
     "output_type": "execute_result"
    }
   ],
   "source": [
    "lr.fit(x_train,y_train)"
   ]
  },
  {
   "cell_type": "code",
   "execution_count": 25,
   "id": "fe6b7289",
   "metadata": {},
   "outputs": [],
   "source": [
    "y_pred = lr.predict(x_test)"
   ]
  },
  {
   "cell_type": "code",
   "execution_count": 26,
   "id": "c7c7d58b",
   "metadata": {},
   "outputs": [],
   "source": [
    "from sklearn import metrics"
   ]
  },
  {
   "cell_type": "code",
   "execution_count": 27,
   "id": "78b83675",
   "metadata": {},
   "outputs": [],
   "source": [
    "r2= metrics.r2_score(y_test,y_pred)"
   ]
  },
  {
   "cell_type": "code",
   "execution_count": 28,
   "id": "614324c6",
   "metadata": {},
   "outputs": [
    {
     "name": "stdout",
     "output_type": "stream",
     "text": [
      "0.8284929260831122\n"
     ]
    }
   ],
   "source": [
    "print(r2)"
   ]
  },
  {
   "cell_type": "code",
   "execution_count": 29,
   "id": "f40bf030",
   "metadata": {},
   "outputs": [
    {
     "data": {
      "text/plain": [
       "1.2016153846153856"
      ]
     },
     "execution_count": 29,
     "metadata": {},
     "output_type": "execute_result"
    }
   ],
   "source": [
    "metrics.mean_absolute_error(y_test,y_pred)"
   ]
  },
  {
   "cell_type": "code",
   "execution_count": 30,
   "id": "2fe14ba8",
   "metadata": {},
   "outputs": [
    {
     "data": {
      "text/plain": [
       "3.0927568786982276"
      ]
     },
     "execution_count": 30,
     "metadata": {},
     "output_type": "execute_result"
    }
   ],
   "source": [
    "metrics.mean_squared_error(y_test,y_pred)"
   ]
  },
  {
   "cell_type": "code",
   "execution_count": 31,
   "id": "aa8763d4",
   "metadata": {},
   "outputs": [],
   "source": [
    "rmse = np.sqrt(metrics.mean_squared_error(y_test,y_pred))"
   ]
  },
  {
   "cell_type": "code",
   "execution_count": 32,
   "id": "e9192803",
   "metadata": {},
   "outputs": [
    {
     "name": "stdout",
     "output_type": "stream",
     "text": [
      "1.7586235750433428\n"
     ]
    }
   ],
   "source": [
    "print(rmse)"
   ]
  },
  {
   "cell_type": "code",
   "execution_count": 33,
   "id": "421effa4",
   "metadata": {},
   "outputs": [
    {
     "data": {
      "text/plain": [
       "Text(0, 0.5, 'y_pred')"
      ]
     },
     "execution_count": 33,
     "metadata": {},
     "output_type": "execute_result"
    },
    {
     "data": {
      "image/png": "[encoded data removed]",
      "text/plain": [
       "<Figure size 432x288 with 1 Axes>"
      ]
     },
     "metadata": {
      "needs_background": "light"
     },
     "output_type": "display_data"
    }
   ],
   "source": [
    "plt.scatter(y_test,y_pred)\n",
    "plt.xlabel('y_test')\n",
    "plt.ylabel('y_pred')"
   ]
  },
  {
   "cell_type": "code",
   "execution_count": 34,
   "id": "f978d255",
   "metadata": {},
   "outputs": [
    {
     "data": {
      "text/plain": [
       "array([[1.58711538]])"
      ]
     },
     "execution_count": 34,
     "metadata": {},
     "output_type": "execute_result"
    }
   ],
   "source": [
    "lr.coef_"
   ]
  },
  {
   "cell_type": "code",
   "execution_count": 35,
   "id": "072e4002",
   "metadata": {},
   "outputs": [
    {
     "data": {
      "text/plain": [
       "array([6.91384615])"
      ]
     },
     "execution_count": 35,
     "metadata": {},
     "output_type": "execute_result"
    }
   ],
   "source": [
    "lr.intercept_"
   ]
  },
  {
   "cell_type": "markdown",
   "id": "3da644e3",
   "metadata": {},
   "source": [
    "model using log transformation of x "
   ]
  },
  {
   "cell_type": "code",
   "execution_count": 37,
   "id": "d20d71b5",
   "metadata": {},
   "outputs": [],
   "source": [
    "x_log_train = np.log(x_train)"
   ]
  },
  {
   "cell_type": "code",
   "execution_count": 38,
   "id": "ab235809",
   "metadata": {},
   "outputs": [],
   "source": [
    "x_log_test = np.log(x_test)"
   ]
  },
  {
   "cell_type": "code",
   "execution_count": 39,
   "id": "c142100c",
   "metadata": {},
   "outputs": [
    {
     "data": {
      "text/plain": [
       "LinearRegression()"
      ]
     },
     "execution_count": 39,
     "metadata": {},
     "output_type": "execute_result"
    }
   ],
   "source": [
    "lr.fit(x_log_train,y_train)"
   ]
  },
  {
   "cell_type": "code",
   "execution_count": 40,
   "id": "b9f3367f",
   "metadata": {},
   "outputs": [],
   "source": [
    "y_pred1 = lr.predict(x_log_test)"
   ]
  },
  {
   "cell_type": "code",
   "execution_count": 41,
   "id": "f0460415",
   "metadata": {},
   "outputs": [
    {
     "data": {
      "text/plain": [
       "0.8964054238093236"
      ]
     },
     "execution_count": 41,
     "metadata": {},
     "output_type": "execute_result"
    }
   ],
   "source": [
    "metrics.r2_score(y_test,y_pred1)"
   ]
  },
  {
   "cell_type": "code",
   "execution_count": 42,
   "id": "e7326aa6",
   "metadata": {},
   "outputs": [
    {
     "data": {
      "text/plain": [
       "0.8964054238093236"
      ]
     },
     "execution_count": 42,
     "metadata": {},
     "output_type": "execute_result"
    }
   ],
   "source": [
    "metrics.r2_score(y_test,y_pred1)"
   ]
  },
  {
   "cell_type": "code",
   "execution_count": 43,
   "id": "5d270610",
   "metadata": {},
   "outputs": [
    {
     "data": {
      "text/plain": [
       "1.8681027598010573"
      ]
     },
     "execution_count": 43,
     "metadata": {},
     "output_type": "execute_result"
    }
   ],
   "source": [
    "metrics.mean_squared_error(y_test,y_pred1)"
   ]
  },
  {
   "cell_type": "code",
   "execution_count": 45,
   "id": "30df35c4",
   "metadata": {},
   "outputs": [
    {
     "data": {
      "text/plain": [
       "1.366785557357502"
      ]
     },
     "execution_count": 45,
     "metadata": {},
     "output_type": "execute_result"
    }
   ],
   "source": [
    "np.sqrt(metrics.mean_squared_error(y_test,y_pred1))"
   ]
  },
  {
   "cell_type": "markdown",
   "id": "00488794",
   "metadata": {},
   "source": [
    "model using log transformation of y"
   ]
  },
  {
   "cell_type": "code",
   "execution_count": 47,
   "id": "48a9762a",
   "metadata": {},
   "outputs": [],
   "source": [
    "y_train_log = np.log(y_train)"
   ]
  },
  {
   "cell_type": "code",
   "execution_count": 48,
   "id": "3d7c9da1",
   "metadata": {},
   "outputs": [],
   "source": [
    "y_test_log = np.log(y_test)"
   ]
  },
  {
   "cell_type": "code",
   "execution_count": 49,
   "id": "ccd39b57",
   "metadata": {},
   "outputs": [
    {
     "data": {
      "text/plain": [
       "LinearRegression()"
      ]
     },
     "execution_count": 49,
     "metadata": {},
     "output_type": "execute_result"
    }
   ],
   "source": [
    "lr.fit(x_train,y_train_log)"
   ]
  },
  {
   "cell_type": "code",
   "execution_count": 50,
   "id": "b6c9999d",
   "metadata": {},
   "outputs": [],
   "source": [
    "y_pred2 = lr.predict(x_test)"
   ]
  },
  {
   "cell_type": "code",
   "execution_count": 56,
   "id": "eb9cbea5",
   "metadata": {},
   "outputs": [
    {
     "data": {
      "text/plain": [
       "0.7316147423841008"
      ]
     },
     "execution_count": 56,
     "metadata": {},
     "output_type": "execute_result"
    }
   ],
   "source": [
    "metrics.r2_score(y_test_log,y_pred2)"
   ]
  },
  {
   "cell_type": "code",
   "execution_count": 57,
   "id": "0f88660c",
   "metadata": {},
   "outputs": [
    {
     "data": {
      "text/plain": [
       "0.027993546080407227"
      ]
     },
     "execution_count": 57,
     "metadata": {},
     "output_type": "execute_result"
    }
   ],
   "source": [
    "metrics.mean_squared_error(y_test_log,y_pred2)"
   ]
  },
  {
   "cell_type": "code",
   "execution_count": 65,
   "id": "912c1b8f",
   "metadata": {},
   "outputs": [
    {
     "data": {
      "text/plain": [
       "0.16731271942206674"
      ]
     },
     "execution_count": 65,
     "metadata": {},
     "output_type": "execute_result"
    }
   ],
   "source": [
    "np.sqrt(metrics.mean_squared_error(y_test_log,y_pred2))"
   ]
  },
  {
   "cell_type": "markdown",
   "id": "643ce8bf",
   "metadata": {},
   "source": [
    "x and y log transformation"
   ]
  },
  {
   "cell_type": "code",
   "execution_count": 59,
   "id": "fa3aa946",
   "metadata": {},
   "outputs": [
    {
     "data": {
      "text/plain": [
       "LinearRegression()"
      ]
     },
     "execution_count": 59,
     "metadata": {},
     "output_type": "execute_result"
    }
   ],
   "source": [
    "lr.fit(x_log_train,y_train_log)"
   ]
  },
  {
   "cell_type": "code",
   "execution_count": 60,
   "id": "c9213d44",
   "metadata": {},
   "outputs": [],
   "source": [
    "y_pred3 = lr.predict(x_log_test)"
   ]
  },
  {
   "cell_type": "code",
   "execution_count": 61,
   "id": "62dd13e9",
   "metadata": {},
   "outputs": [
    {
     "data": {
      "text/plain": [
       "0.9192020080959167"
      ]
     },
     "execution_count": 61,
     "metadata": {},
     "output_type": "execute_result"
    }
   ],
   "source": [
    "metrics.r2_score(y_test_log,y_pred3)"
   ]
  },
  {
   "cell_type": "code",
   "execution_count": 62,
   "id": "40e740d0",
   "metadata": {},
   "outputs": [
    {
     "data": {
      "text/plain": [
       "0.008427520683003929"
      ]
     },
     "execution_count": 62,
     "metadata": {},
     "output_type": "execute_result"
    }
   ],
   "source": [
    "metrics.mean_squared_error(y_test_log,y_pred3)"
   ]
  },
  {
   "cell_type": "code",
   "execution_count": 64,
   "id": "26e088f5",
   "metadata": {},
   "outputs": [
    {
     "data": {
      "text/plain": [
       "0.09180152876180182"
      ]
     },
     "execution_count": 64,
     "metadata": {},
     "output_type": "execute_result"
    }
   ],
   "source": [
    "np.sqrt(metrics.mean_squared_error(y_test_log,y_pred3))"
   ]
  },
  {
   "cell_type": "markdown",
   "id": "b3bb1236",
   "metadata": {},
   "source": [
    "squareroot transformation of x ,y"
   ]
  },
  {
   "cell_type": "code",
   "execution_count": 67,
   "id": "eca789cf",
   "metadata": {},
   "outputs": [],
   "source": [
    "x_train_sqrt = np.sqrt(x_train)\n",
    "y_train_sqrt = np.sqrt(y_train)\n",
    "x_test_sqrt = np.sqrt(x_test)\n",
    "y_test_sqrt = np.sqrt(y_test)"
   ]
  },
  {
   "cell_type": "markdown",
   "id": "a790a097",
   "metadata": {},
   "source": [
    "model using sqrt transformed x"
   ]
  },
  {
   "cell_type": "code",
   "execution_count": 68,
   "id": "0fca5d10",
   "metadata": {},
   "outputs": [
    {
     "data": {
      "text/plain": [
       "LinearRegression()"
      ]
     },
     "execution_count": 68,
     "metadata": {},
     "output_type": "execute_result"
    }
   ],
   "source": [
    "lr.fit(x_train_sqrt,y_train)"
   ]
  },
  {
   "cell_type": "code",
   "execution_count": 69,
   "id": "7d534ab7",
   "metadata": {},
   "outputs": [],
   "source": [
    "y_pred4 = lr.predict(x_test_sqrt)"
   ]
  },
  {
   "cell_type": "code",
   "execution_count": 70,
   "id": "72b3e52c",
   "metadata": {},
   "outputs": [
    {
     "data": {
      "text/plain": [
       "0.8943930577069135"
      ]
     },
     "execution_count": 70,
     "metadata": {},
     "output_type": "execute_result"
    }
   ],
   "source": [
    "metrics.r2_score(y_test,y_pred4)"
   ]
  },
  {
   "cell_type": "code",
   "execution_count": null,
   "id": "dfdad9b8",
   "metadata": {},
   "outputs": [],
   "source": [
    "metrics.mean_squared_error(y_test,y_pred4)"
   ]
  },
  {
   "cell_type": "code",
   "execution_count": 71,
   "id": "2d31e1c8",
   "metadata": {},
   "outputs": [
    {
     "data": {
      "text/plain": [
       "1.3799968853404654"
      ]
     },
     "execution_count": 71,
     "metadata": {},
     "output_type": "execute_result"
    }
   ],
   "source": [
    "np.sqrt(metrics.mean_squared_error(y_test,y_pred4))"
   ]
  },
  {
   "cell_type": "markdown",
   "id": "3a779fc8",
   "metadata": {},
   "source": [
    "model using sqrt transformed y"
   ]
  },
  {
   "cell_type": "code",
   "execution_count": 72,
   "id": "33f29637",
   "metadata": {},
   "outputs": [
    {
     "data": {
      "text/plain": [
       "LinearRegression()"
      ]
     },
     "execution_count": 72,
     "metadata": {},
     "output_type": "execute_result"
    }
   ],
   "source": [
    "lr.fit(x_train,y_train_sqrt)"
   ]
  },
  {
   "cell_type": "code",
   "execution_count": 73,
   "id": "1fe20265",
   "metadata": {},
   "outputs": [],
   "source": [
    "y_pred5 = lr.predict(x_test)"
   ]
  },
  {
   "cell_type": "code",
   "execution_count": 74,
   "id": "d8cebfc2",
   "metadata": {},
   "outputs": [
    {
     "data": {
      "text/plain": [
       "0.7871282701415384"
      ]
     },
     "execution_count": 74,
     "metadata": {},
     "output_type": "execute_result"
    }
   ],
   "source": [
    "metrics.r2_score(y_test_sqrt,y_pred5)"
   ]
  },
  {
   "cell_type": "code",
   "execution_count": 75,
   "id": "504bd5a3",
   "metadata": {},
   "outputs": [
    {
     "data": {
      "text/plain": [
       "0.0715972170212146"
      ]
     },
     "execution_count": 75,
     "metadata": {},
     "output_type": "execute_result"
    }
   ],
   "source": [
    "metrics.mean_squared_error(y_test_sqrt,y_pred5)"
   ]
  },
  {
   "cell_type": "code",
   "execution_count": 77,
   "id": "10dd39c0",
   "metadata": {},
   "outputs": [
    {
     "data": {
      "text/plain": [
       "0.2675765629146443"
      ]
     },
     "execution_count": 77,
     "metadata": {},
     "output_type": "execute_result"
    }
   ],
   "source": [
    "np.sqrt(metrics.mean_squared_error(y_test_sqrt,y_pred5))"
   ]
  },
  {
   "cell_type": "markdown",
   "id": "72672846",
   "metadata": {},
   "source": [
    "model using sqrt transformed x,y"
   ]
  },
  {
   "cell_type": "code",
   "execution_count": 78,
   "id": "21ece9cf",
   "metadata": {},
   "outputs": [
    {
     "data": {
      "text/plain": [
       "LinearRegression()"
      ]
     },
     "execution_count": 78,
     "metadata": {},
     "output_type": "execute_result"
    }
   ],
   "source": [
    "lr.fit(x_train_sqrt,y_train_sqrt)"
   ]
  },
  {
   "cell_type": "code",
   "execution_count": 79,
   "id": "1c433244",
   "metadata": {},
   "outputs": [],
   "source": [
    "y_pred6 = lr.predict(x_test_sqrt)"
   ]
  },
  {
   "cell_type": "code",
   "execution_count": 80,
   "id": "37dd89a0",
   "metadata": {},
   "outputs": [
    {
     "data": {
      "text/plain": [
       "0.8783317983078394"
      ]
     },
     "execution_count": 80,
     "metadata": {},
     "output_type": "execute_result"
    }
   ],
   "source": [
    "metrics.r2_score(y_test_sqrt,y_pred6)"
   ]
  },
  {
   "cell_type": "code",
   "execution_count": 81,
   "id": "7030f12d",
   "metadata": {},
   "outputs": [
    {
     "data": {
      "text/plain": [
       "0.040921848321177005"
      ]
     },
     "execution_count": 81,
     "metadata": {},
     "output_type": "execute_result"
    }
   ],
   "source": [
    "metrics.mean_squared_error(y_test_sqrt,y_pred6)"
   ]
  },
  {
   "cell_type": "code",
   "execution_count": 82,
   "id": "18d35188",
   "metadata": {},
   "outputs": [
    {
     "data": {
      "text/plain": [
       "0.2022914934473939"
      ]
     },
     "execution_count": 82,
     "metadata": {},
     "output_type": "execute_result"
    }
   ],
   "source": [
    "np.sqrt(metrics.mean_squared_error(y_test_sqrt,y_pred6))"
   ]
  },
  {
   "cell_type": "code",
   "execution_count": null,
   "id": "8ba12add",
   "metadata": {},
   "outputs": [],
   "source": [
    "## model fitted using x & y log transformaton is preferred due to better r2score"
   ]
  }
 ],
 "metadata": {
  "kernelspec": {
   "display_name": "Python 3 (ipykernel)",
   "language": "python",
   "name": "python3"
  },
  "language_info": {
   "codemirror_mode": {
    "name": "ipython",
    "version": 3
   },
   "file_extension": ".py",
   "mimetype": "text/x-python",
   "name": "python",
   "nbconvert_exporter": "python",
   "pygments_lexer": "ipython3",
   "version": "3.9.12"
  }
 },
 "nbformat": 4,
 "nbformat_minor": 5
}
